{
 "cells": [
  {
   "cell_type": "markdown",
   "id": "6fdeb978",
   "metadata": {},
   "source": [
    "# 全国月度发电量 api-1 (请预测 2023 年未来 5 年风电发电量)"
   ]
  },
  {
   "attachments": {},
   "cell_type": "markdown",
   "id": "0cec68e6",
   "metadata": {},
   "source": [
    "请写出一个python代码，且可以成功运行，用于训练llama的数据集。要求如下：\n",
    "1、生成一个具有多样化问题表述的数据集，确保问题的表述方式更加多样化，模仿人们实际提问的风格，并且确保答案中的参数与问题中的参数保持一致，请生成50条不同的问题模版。\n",
    "2、问题中的参数有： \n",
    "    （1）预测的条目，取值有[\"煤炭\", \"天然气\", \"水电\", \"核电\", \"石油\", \"太阳能\", \"风电\"]中的随机一个\n",
    "    （2）预测的开始年份，从2022年起，取数范围为[2022, 2025]，默认为2022年\n",
    "    （3）预测长度的单位，年、月、日，任取一个\n",
    "    （4）预测的长度，数字，取数范围为[0, 50]，默认为5。 \n",
    "    （3）是否输出分析结果，输出分析结果，api_args为True，如果不输出结果，则为false。注意，问题中可以不提出是否让输出分析，不说是否输出，则为True。\n",
    "    （4）是否绘图，绘图，api_args为True，如果不绘图，则为false。注意，问题中可以不提出绘图，不说，则为True。\n",
    "3、json文件名要和api对应起来，需要输出到excel中，一条json数据一行。\n",
    "4、输出的excel文件名为：power_generation_prediction_dataset_api1.xlsx。\n",
    "5、第一行的json的格式示例如下：{ \"query\": \"请预测 2023 年未来 5 年风电发电量，并输出分析和绘图\",\"answer\": { \"api\": \"power_generation_prediction\", \"api_args\": [\"全国月度发电量\",\"风电\",\"年\",\"2023/01/01\",5,\"True\",\"True\"] }}，后面每行的query形式，请随意"
   ]
  },
  {
   "cell_type": "code",
   "execution_count": 16,
   "id": "057db0de",
   "metadata": {
    "ExecuteTime": {
     "end_time": "2024-03-10T02:28:45.922634Z",
     "start_time": "2024-03-10T02:28:45.828362Z"
    }
   },
   "outputs": [
    {
     "name": "stdout",
     "output_type": "stream",
     "text": [
      "Excel file 'power_generation_prediction_dataset_api1.xlsx' has been saved.\n"
     ]
    }
   ],
   "source": [
    "import pandas as pd\n",
    "import random\n",
    "import json\n",
    "\n",
    "# 定义参数\n",
    "energy_types = [\"煤炭\", \"天然气\", \"水电\", \"核电\", \"石油\", \"太阳能\", \"风电\"]\n",
    "years = [2022, 2023, 2024, 2025]\n",
    "units = [\"年\", \"月\", \"日\"]\n",
    "lengths = range(1, 101)\n",
    "output_analysis_options = [True, False]\n",
    "plotting_options = [True, False]\n",
    "\n",
    "# 问题模板\n",
    "question_templates = [\n",
    "    \"我想了解从{year}年开始的未来{length}{unit}内{energy}发电量的变化，需要{analysis}和{plotting}。\",\n",
    "    \"请预测{energy}在{year}年后的{length}{unit}发电量趋势，{analysis}与{plotting}是否包含在内？\",\n",
    "    \"能否告诉我{year}年接下来{length}{unit}的{energy}发电情况？期望{analysis}及{plotting}。\",\n",
    "    \"我对{year}年之后{length}{unit}的{energy}发电量预测很感兴趣，希望得到{analysis}和{plotting}。\",\n",
    "    \"从{year}年起，{energy}的发电量在接下来的{length}{unit}里怎样？我想要{analysis}和{plotting}。\"\n",
    "]\n",
    "\n",
    "# 随机生成问题及其答案\n",
    "def generate_question_and_answer():\n",
    "    energy = random.choice(energy_types)\n",
    "    year = random.choice(years)\n",
    "    unit = random.choice(units)\n",
    "    length = random.choice(lengths)\n",
    "    output_analysis = \"分析结果\" if random.choice(output_analysis_options) else \"不包括分析结果\"\n",
    "    plotting = \"绘图展示\" if random.choice(plotting_options) else \"不进行绘图展示\"\n",
    "    \n",
    "    # 选择并填充问题模板\n",
    "    template = random.choice(question_templates)\n",
    "    question = template.format(year=year, length=length, unit=unit, energy=energy, analysis=output_analysis, plotting=plotting)\n",
    "    \n",
    "    # 构造答案\n",
    "    answer = {\n",
    "        \"api\": \"power_generation_prediction\",\n",
    "        \"api_args\": [energy, year, unit, length, output_analysis == \"分析结果\", plotting == \"绘图展示\"]\n",
    "    }\n",
    "\n",
    "    return json.dumps({\"query\": question, \"answer\": answer}, ensure_ascii=False)\n",
    "\n",
    "# 创建数据集\n",
    "data = [generate_question_and_answer() for _ in range(50)]\n",
    "\n",
    "# 保存到DataFrame\n",
    "df = pd.DataFrame(data, columns=[\"JSON Data\"])\n",
    "\n",
    "# 输出到Excel\n",
    "excel_filename = \"./datasets/excel/power_generation_prediction_dataset_api1.xlsx\"\n",
    "df.to_excel(excel_filename, index=False, engine='openpyxl')\n",
    "\n",
    "print(f\"Excel file '{excel_filename}' has been saved.\")\n"
   ]
  },
  {
   "cell_type": "markdown",
   "id": "5fe62c43",
   "metadata": {},
   "source": [
    "# 全国月度发电量 api-2（请帮我识别 2019 年到 2021 年煤炭发电量异常的月份）"
   ]
  },
  {
   "cell_type": "markdown",
   "id": "e3e532b4",
   "metadata": {},
   "source": [
    "请写出一个python代码，且可以成功运行，用于训练llama的数据集。要求如下：\n",
    "1、生成一个具有多样化问题表述的数据集，确保问题的表述方式更加多样化，模仿人们实际提问的风格，并且确保答案中的参数与问题中的参数保持一致，请生成50条不同的问题模版。\n",
    "2、问题中的参数有： \n",
    "    （1）预测的条目，取值有[\"煤炭\", \"天然气\", \"水电\", \"核电\", \"石油\", \"太阳能\", \"风电\"]中的随机一个\n",
    "    （2）预测的开始年份，从2019年起，取数范围为[2019, 2022]，默认为2019年\n",
    "    （3）预测长度的单位，年、月、日，任取一个\n",
    "    （4）预测的长度，数字，取数范围为[0, 50]，默认为5。 \n",
    "    （3）是否输出分析结果，输出分析结果，api_args为True，如果不输出结果，则为false。注意，问题中可以不提出是否让输出分析，不说则为True。\n",
    "3、json文件名要和api对应起来，需要输出到excel中，一条json数据一行。\n",
    "4、输出的excel文件名为：power_generation_identification_dataset_api2.xlsx。\n",
    "5、第一行的json的格式示例如下：{ \"query\": \"请帮我识别2019年到2021年煤炭发电量异常的月份\",\"answer\": { \"api\": \"power_generation_identification\", \"api_args\": [\"全国月度发电量\"，\"煤炭\", \"年\", \"2019/01/01\",\"2\", \"True\"]}}，后面每行的query形式，请随意"
   ]
  },
  {
   "cell_type": "code",
   "execution_count": 17,
   "id": "7fb90c3f",
   "metadata": {
    "ExecuteTime": {
     "end_time": "2024-03-10T02:35:18.466428Z",
     "start_time": "2024-03-10T02:35:18.409852Z"
    }
   },
   "outputs": [
    {
     "name": "stdout",
     "output_type": "stream",
     "text": [
      "Excel file 'power_generation_identification_dataset_api2.xlsx' has been saved.\n"
     ]
    }
   ],
   "source": [
    "import pandas as pd\n",
    "import random\n",
    "import json\n",
    "\n",
    "# 定义参数\n",
    "energy_types = [\"煤炭\", \"天然气\", \"水电\", \"核电\", \"石油\", \"太阳能\", \"风电\"]\n",
    "start_years = [2019, 2020, 2021, 2022]\n",
    "units = [\"年\", \"月\", \"日\"]\n",
    "lengths = range(1, 51)\n",
    "output_analysis_options = [True, False]\n",
    "\n",
    "# 随机生成问题及其答案\n",
    "def generate_question_and_answer():\n",
    "    energy = random.choice(energy_types)\n",
    "    start_year = random.choice(start_years)\n",
    "    unit = random.choice(units)\n",
    "    length = random.choice(lengths)\n",
    "    output_analysis = random.choice(output_analysis_options)\n",
    "\n",
    "    # 构建问题\n",
    "    question_styles = [\n",
    "        f\"能否分析{start_year}年开始的下一个{length}{unit}中{energy}的发电量？需要{'输出' if output_analysis else '不输出'}分析结果。\",\n",
    "        f\"请预测{energy}在{start_year}年后{length}{unit}的发电情况，并{'提供' if output_analysis else '不提供'}相应的分析。\",\n",
    "        f\"我想知道从{start_year}年起{length}{unit}内{energy}发电量的变化，是否能{'进行' if output_analysis else '不进行'}详细分析？\",\n",
    "        f\"请帮我查找{start_year}年至{start_year+length}年{energy}的发电量预测，并{'包括' if output_analysis else '不包括'}分析结果。\",\n",
    "    ]\n",
    "    question = random.choice(question_styles)\n",
    "\n",
    "    # 构建答案\n",
    "    answer = {\n",
    "        \"api\": \"power_generation_identification\",\n",
    "        \"api_args\": [\"全国月度发电量\", energy, unit, f\"{start_year}/01/01\", str(length), output_analysis]\n",
    "    }\n",
    "\n",
    "    return json.dumps({\"query\": question, \"answer\": answer}, ensure_ascii=False)\n",
    "\n",
    "# 创建数据集\n",
    "data = [generate_question_and_answer() for _ in range(50)]\n",
    "\n",
    "# 保存到DataFrame\n",
    "df = pd.DataFrame(data, columns=[\"JSON Data\"])\n",
    "\n",
    "# 输出到Excel\n",
    "excel_filename = \"./datasets/excel/power_generation_identification_dataset_api2.xlsx\"\n",
    "df.to_excel(excel_filename, index=False, engine='openpyxl')\n",
    "\n",
    "print(f\"Excel file '{excel_filename}' has been saved.\")\n"
   ]
  },
  {
   "cell_type": "markdown",
   "id": "39330005",
   "metadata": {},
   "source": [
    "# 全国月度发电量 api-3（请分析石油的发电量在四季中的发电量情况。）"
   ]
  },
  {
   "cell_type": "markdown",
   "id": "699b8964",
   "metadata": {
    "ExecuteTime": {
     "end_time": "2024-03-10T02:41:39.119909Z",
     "start_time": "2024-03-10T02:41:39.102128Z"
    }
   },
   "source": [
    "请写出一个python代码，且可以成功运行，用于训练llama的数据集。要求如下：\n",
    "1、生成一个具有多样化问题表述的数据集，确保问题的表述方式更加多样化，模仿人们实际提问的风格，并且确保答案中的参数与问题中的参数保持一致，请生成50条不同的问题模版。\n",
    "2、问题中的参数有： \n",
    "    （1）预测的条目，取值有[\"煤炭\", \"天然气\", \"水电\", \"核电\", \"石油\", \"太阳能\", \"风电\"]中的随机一个\n",
    "    （2）预测的时间类型，季度、月，任取一个。 \n",
    "    （3）是否输出分析结果，输出分析结果，api_args为True，如果不输出结果，则为false。注意，问题中可以不提出是否让输出分析，不说是否输出，则为True。\n",
    "3、json文件名要和api对应起来，需要输出到excel中，一条json数据一行。\n",
    "4、输出的excel文件名为：power_generation_season_dataset_api3.xlsx。\n",
    "5、第一行的json的格式示例如下：{ \"query\": \"请分析石油的发电量在四季中的发电量情况\",\"answer\": { \"api\": \"powerpower_generation_season_generation_identification\", \"api_args\": [\"全国月度发电量\"， \"石油\", \"季\", \"True\"]}}，后面每行的query形式，请随意"
   ]
  },
  {
   "cell_type": "code",
   "execution_count": 22,
   "id": "9927fe5d",
   "metadata": {
    "ExecuteTime": {
     "end_time": "2024-03-10T02:50:48.850548Z",
     "start_time": "2024-03-10T02:50:48.791968Z"
    }
   },
   "outputs": [
    {
     "name": "stdout",
     "output_type": "stream",
     "text": [
      "Excel file 'power_generation_season_dataset_api3.xlsx' has been saved.\n"
     ]
    }
   ],
   "source": [
    "import pandas as pd\n",
    "import random\n",
    "import json\n",
    "\n",
    "# 定义参数\n",
    "energy_types = [\"煤炭\", \"天然气\", \"水电\", \"核电\", \"石油\", \"太阳能\", \"风电\"]\n",
    "time_types = [\"季度\", \"月\"]\n",
    "# 默认情况下，大多数问题都会要求输出分析结果\n",
    "\n",
    "# 生成多样化的问题表述\n",
    "def generate_question():\n",
    "    energy = random.choice(energy_types)\n",
    "    time_type = random.choice(time_types)\n",
    "    output_analysis = random.choice([True, False])\n",
    "\n",
    "    question_templates = [\n",
    "        f\"能否分析{energy}在不同{time_type}的发电量情况？\",\n",
    "        f\"请提供关于{energy}在各个{time_type}内发电量的详细报告。\",\n",
    "        f\"我对{energy}接下来各个{time_type}的发电量预测感兴趣。\",\n",
    "        f\"对于{energy}而言，未来各{time_type}的发电量趋势怎样？\",\n",
    "        f\"能给出{energy}在未来各{time_type}发电量的分析吗？\"\n",
    "    ]\n",
    "    \n",
    "    question = random.choice(question_templates)\n",
    "    # 如果问题文本没有明确是否需要输出分析，大多数默认为True\n",
    "    output_analysis_text = \"\" if output_analysis else \"，不需要输出分析结果\"\n",
    "\n",
    "    return f\"{question}{output_analysis_text}\", energy, time_type, output_analysis\n",
    "\n",
    "# 构造JSON格式的数据\n",
    "def construct_json_data(question, energy, time_type, output_analysis):\n",
    "    return {\n",
    "        \"query\": question,\n",
    "        \"answer\": {\n",
    "            \"api\": \"power_generation_season_generation_identification\",\n",
    "            \"api_args\": [\"全国月度发电量\", energy, \"季\" if time_type == \"季度\" else \"月\", output_analysis]\n",
    "        }\n",
    "    }\n",
    "\n",
    "# 生成数据集\n",
    "data = []\n",
    "for _ in range(50):\n",
    "    question, energy, time_type, output_analysis = generate_question()\n",
    "    json_data = construct_json_data(question, energy, time_type, output_analysis)\n",
    "    data.append(json.dumps(json_data, ensure_ascii=False))\n",
    "\n",
    "# 保存到DataFrame\n",
    "df = pd.DataFrame(data, columns=[\"JSON Data\"])\n",
    "\n",
    "# 输出到Excel\n",
    "excel_filename = \"./datasets/excel/power_generation_season_dataset_api3.xlsx\"\n",
    "df.to_excel(excel_filename, index=False, engine='openpyxl')\n",
    "\n",
    "print(f\"Excel file '{excel_filename}' has been saved.\")\n"
   ]
  },
  {
   "cell_type": "markdown",
   "id": "b85df803",
   "metadata": {
    "ExecuteTime": {
     "end_time": "2024-03-10T01:50:41.075781Z",
     "start_time": "2024-03-10T01:50:41.071492Z"
    }
   },
   "source": [
    "# 全国月度发电量 api-4（请预测 2023 年未来 5 年传统发电量的占比情况。）"
   ]
  },
  {
   "cell_type": "markdown",
   "id": "eecb039d",
   "metadata": {},
   "source": [
    "请写出一个python代码，且可以成功运行，用于训练llama的数据集。要求如下：\n",
    "1. 生成一个具有多样化问题表述的数据集，确保问题的表述方式更加多样化，模仿人们实际提问的风格，并且确保答案中的参数与问题中的参数保持一致，请生成50条不同的问题模版。\n",
    "2. 问题中的参数有：\n",
    "    （1）是否选择传统发电方法，是，则api_args为True，否，则为false。\n",
    "    （2）预测的开始年份，从2023年起，取数范围为[2023, 2025]。\n",
    "    （3）预测长度的单位，年、月、日，任取一个\n",
    "    （4）预测的长度，数字，取数范围为[0, 100]。\n",
    "    （3）是否输出分析结果，输出分析结果，api_args为True，如果不输出结果，则为false。注意，问题中可以不提出是否让输出分析，不说是否输出，则为True。\n",
    "    （4）是否绘图，绘图，api_args为True，如果不绘图，则为false。注意，问题中可以不提出绘图，不说，则为True。\n",
    "3. json文件名要和api对应起来， 一条json数据一行。\n",
    "4. 需要输出到excel中，一条json为一行。\n",
    "5. 输出的excel文件名为：power_generation_traditional_dataset_api4.xlsx。\n",
    "6. 第一条的示例格式如下：{ \"query\": \"请预测2023年未来5年传统发电量的占比情况，并输出分析结果。\",\"answer\": { \"api\": \"power_generation_traditional\", \"api_args\": [\"全国月度发电量\"， \"False\",\"年”, \"2023/01/01\",\"5\",\"True\",\"True\"] }}，后面的json请随意。"
   ]
  },
  {
   "cell_type": "code",
   "execution_count": 13,
   "id": "6aaeca39",
   "metadata": {
    "ExecuteTime": {
     "end_time": "2024-03-10T02:10:59.915105Z",
     "start_time": "2024-03-10T02:10:59.886955Z"
    }
   },
   "outputs": [
    {
     "name": "stdout",
     "output_type": "stream",
     "text": [
      "Excel file 'power_generation_traditional_dataset_api4.xlsx' has been saved.\n"
     ]
    }
   ],
   "source": [
    "import pandas as pd\n",
    "import random\n",
    "import json\n",
    "from datetime import datetime\n",
    "\n",
    "# 定义参数范围和选项\n",
    "is_traditional_options = [True, False]\n",
    "start_years = range(2023, 2026)\n",
    "unit_options = ['年', '月', '日']\n",
    "length_range = range(1, 101)\n",
    "output_analysis_options = [True, False]\n",
    "plotting_options = [True, False]\n",
    "\n",
    "# 生成随机问题和答案\n",
    "def generate_question_and_answer():\n",
    "    is_traditional = random.choice(is_traditional_options)\n",
    "    start_year = random.choice(start_years)\n",
    "    unit = random.choice(unit_options)\n",
    "    length = random.choice(length_range)\n",
    "    output_analysis = random.choice(output_analysis_options)\n",
    "    plotting = random.choice(plotting_options)\n",
    "    \n",
    "    traditional_text = \"传统发电方法\" if is_traditional else \"非传统发电方法\"\n",
    "    analysis_text = \"并输出分析结果\" if output_analysis else \"不输出分析结果\"\n",
    "    plotting_text = \"并绘图展示\" if plotting else \"不进行绘图展示\"\n",
    "    \n",
    "    query = f\"请预测{start_year}年未来{length}{unit}{traditional_text}的占比情况，{analysis_text}，{plotting_text}。\"\n",
    "    answer = {\n",
    "        \"api\": \"power_generation_traditional\",\n",
    "        \"api_args\": [\"全国月度发电量\", str(is_traditional), unit, f\"{start_year}/01/01\", str(length), str(output_analysis), str(plotting)]\n",
    "    }\n",
    "    \n",
    "    return json.dumps({\"query\": query, \"answer\": answer}, ensure_ascii=False)\n",
    "\n",
    "# 创建数据集\n",
    "data = [generate_question_and_answer() for _ in range(50)]\n",
    "\n",
    "# 保存到DataFrame\n",
    "df = pd.DataFrame(data, columns=[\"JSON Data\"])\n",
    "\n",
    "# 输出到Excel\n",
    "excel_filename = \"./datasets/excel/power_generation_traditional_dataset_api4.xlsx\"\n",
    "df.to_excel(excel_filename, index=False, engine='openpyxl')\n",
    "\n",
    "print(f\"Excel file '{excel_filename}' has been saved.\")\n"
   ]
  },
  {
   "cell_type": "markdown",
   "id": "2b9476d4",
   "metadata": {},
   "source": [
    "# 将excel转成json"
   ]
  },
  {
   "cell_type": "code",
   "execution_count": 30,
   "id": "a03980d7",
   "metadata": {
    "ExecuteTime": {
     "end_time": "2024-03-10T03:19:46.398455Z",
     "start_time": "2024-03-10T03:19:46.355796Z"
    }
   },
   "outputs": [],
   "source": [
    "import pandas as pd\n",
    "import json\n",
    "\n",
    "# 读取 Excel 文件\n",
    "excel_path = './power_generation_prediction_dataset_api1.xlsx'\n",
    "df = pd.read_excel(excel_path)\n",
    "\n",
    "# 转换 JSON 字符串为 Python 对象，并修改布尔值的表示\n",
    "data_list = []\n",
    "for item in df['JSON Data']:\n",
    "    # 使用 json.loads 将 JSON 字符串转换为 Python 字典\n",
    "    data = json.loads(item)\n",
    "    # 修改布尔值的表示，确保输出满足 Python 的布尔值格式\n",
    "    data['answer']['api_args'][-2] = True if data['answer']['api_args'][-2] == 'True' else False\n",
    "    data['answer']['api_args'][-1] = True if data['answer']['api_args'][-1] == 'True' else False\n",
    "    data_list.append(data)\n",
    "\n",
    "# JSON 文件保存路径\n",
    "json_path = './power_generation_prediction_dataset_api1_corrected.json'\n",
    "\n",
    "# 使用 json.dump 写入 JSON 文件，保证格式正确\n",
    "with open(json_path, 'w', encoding='utf-8') as json_file:\n",
    "    json.dump(data_list, json_file, ensure_ascii=False, indent=None, separators=(',', ':'))\n"
   ]
  },
  {
   "cell_type": "code",
   "execution_count": null,
   "id": "e80dc50d",
   "metadata": {},
   "outputs": [],
   "source": []
  }
 ],
 "metadata": {
  "kernelspec": {
   "display_name": "Python 3 (ipykernel)",
   "language": "python",
   "name": "python3"
  },
  "language_info": {
   "codemirror_mode": {
    "name": "ipython",
    "version": 3
   },
   "file_extension": ".py",
   "mimetype": "text/x-python",
   "name": "python",
   "nbconvert_exporter": "python",
   "pygments_lexer": "ipython3",
   "version": "3.11.7"
  },
  "toc": {
   "base_numbering": 1,
   "nav_menu": {},
   "number_sections": true,
   "sideBar": true,
   "skip_h1_title": false,
   "title_cell": "Table of Contents",
   "title_sidebar": "Contents",
   "toc_cell": false,
   "toc_position": {},
   "toc_section_display": true,
   "toc_window_display": false
  }
 },
 "nbformat": 4,
 "nbformat_minor": 5
}
